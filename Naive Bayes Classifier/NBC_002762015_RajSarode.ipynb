{
  "nbformat": 4,
  "nbformat_minor": 0,
  "metadata": {
    "colab": {
      "provenance": []
    },
    "kernelspec": {
      "name": "python3",
      "display_name": "Python 3"
    },
    "language_info": {
      "name": "python"
    }
  },
  "cells": [
    {
      "cell_type": "code",
      "source": [
        "import requests\n",
        "from bs4 import BeautifulSoup\n",
        "import pandas as pd"
      ],
      "metadata": {
        "id": "8wlI_8Ljru5A"
      },
      "execution_count": 1,
      "outputs": []
    },
    {
      "cell_type": "code",
      "source": [
        "# Define the URL of the page you want to scrape\n",
        "# url = 'https://www.imdb.com/title/tt0068646/reviews?ref_=tt_urv'\n",
        "url = 'https://www.imdb.com/title/tt7286456/reviews?ref_=tt_urv'\n",
        "\n",
        "# Send a request to the URL and get the HTML content of the page\n",
        "response = requests.get(url)\n",
        "html_content = response.content"
      ],
      "metadata": {
        "id": "eiNVySP1rMS5"
      },
      "execution_count": 2,
      "outputs": []
    },
    {
      "cell_type": "code",
      "source": [
        "# Parse the HTML content using BeautifulSoup\n",
        "soup = BeautifulSoup(html_content, 'html.parser')"
      ],
      "metadata": {
        "id": "KusEuyJrrPZi"
      },
      "execution_count": 3,
      "outputs": []
    },
    {
      "cell_type": "code",
      "source": [
        "# Find the reviews section of the page using its class name\n",
        "reviews = soup.find_all('div', {'class': 'lister-item-content'})"
      ],
      "metadata": {
        "id": "VIFWvTtGuJKp"
      },
      "execution_count": 4,
      "outputs": []
    },
    {
      "cell_type": "code",
      "source": [
        "# Loop through the reviews and extract the relevant information such as the review text, the rating, and the date of the review\n",
        "from sklearn.naive_bayes import MultinomialNB\n",
        "from sklearn.feature_extraction.text import CountVectorizer\n",
        "corpus = []\n",
        "labels = []\n",
        "\n",
        "for review in reviews:\n",
        "    review_text_elem = review.find('div', {'class': 'text'})\n",
        "    rating_elem = review.find('span', {'class': 'rating-other-user-rating'})\n",
        "    date_elem = review.find('span', {'class': 'review-date'})\n",
        "\n",
        "    # Check if the elements are None before accessing their attributes\n",
        "    review_text = review_text_elem.text.strip() if review_text_elem is not None else ''\n",
        "    rating = rating_elem.find('span').text.strip() if rating_elem is not None else ''\n",
        "    date = date_elem.text.strip() if date_elem is not None else ''\n",
        "\n",
        "    if rating != '':\n",
        "        if int(rating) >= 7:\n",
        "            labels.append('positive')\n",
        "        else:\n",
        "            labels.append('negative')\n",
        "        corpus.append(review_text)\n",
        "# Preprocess the text data using CountVectorizer\n",
        "vectorizer = CountVectorizer(stop_words='english')\n",
        "X = vectorizer.fit_transform(corpus)\n",
        "\n",
        "# Train a Naive Bayes classifier\n",
        "clf = MultinomialNB()\n",
        "clf.fit(X, labels)\n",
        "\n",
        "# Predict the labels for the reviews\n",
        "pred_labels = clf.predict(X)\n",
        "\n",
        "# Combine the reviews and their predicted labels into a DataFrame\n",
        "reviews_df = pd.DataFrame({'Review': corpus, 'Label': pred_labels})\n",
        "\n",
        "# Save the DataFrame to a CSV file\n",
        "reviews_df.to_csv('reviews1.csv', index=False)\n",
        "\n",
        "# Print the extracted information\n",
        "print('Review text:', review_text)\n",
        "print('Rating:', rating)\n",
        "print('Date:', date)\n",
        "print('-------------------------')"
      ],
      "metadata": {
        "colab": {
          "base_uri": "https://localhost:8080/"
        },
        "id": "eP2czc2bt4fv",
        "outputId": "68ffbdbf-10e2-4cc8-f29e-76ab1f2f4bab"
      },
      "execution_count": 5,
      "outputs": [
        {
          "output_type": "stream",
          "name": "stdout",
          "text": [
            "Review text: I know this is an unpopular opinion, but honestly this movie is overrated and boring. 2 hours felt like 3 and a half.I don't buy the whole thing where he is invited to the show. The meta \"standup\" he made was extremely dull and boring. Then gets allowed to broadcast for that long without being interrupted, also being transported in the most shitty police-car ever after that, it's just not believeable enough to me.He also acted the same when he was on meds aswell as off, so that part didn't make sense either. The police must also be really not catching this guy faster after the homocide.It has some good parts but they can be boiled down to maybe 5 minutes.\n",
            "Is this a movie I would watch again? Probably not.\n",
            "Rating: 5\n",
            "Date: 20 October 2019\n",
            "-------------------------\n"
          ]
        }
      ]
    },
    {
      "cell_type": "code",
      "source": [
        "from sklearn.model_selection import train_test_split\n",
        "from sklearn.metrics import accuracy_score\n",
        "from sklearn.metrics import accuracy_score, precision_score, recall_score, f1_score\n",
        "from sklearn.naive_bayes import MultinomialNB\n",
        "from sklearn.feature_extraction.text import CountVectorizer\n",
        "\n",
        "corpus_train, corpus_test, labels_train, labels_test = train_test_split(corpus, labels, test_size=0.2, random_state=42)\n",
        "\n",
        "# Preprocess the text data using CountVectorizer\n",
        "vectorizer = CountVectorizer(stop_words='english')\n",
        "X_train = vectorizer.fit_transform(corpus_train)\n",
        "X_test = vectorizer.transform(corpus_test)\n",
        "\n",
        "# Train a Naive Bayes classifier\n",
        "clf = MultinomialNB()\n",
        "clf.fit(X_train, labels_train)\n",
        "\n",
        "# Evaluate the classifier on the testing set\n",
        "pred_labels_test = clf.predict(X_test)\n",
        "\n",
        "# Calculate and print the classifier's performance metrics\n",
        "accuracy = accuracy_score(labels_test, pred_labels_test)\n",
        "precision = precision_score(labels_test, pred_labels_test, pos_label='positive')\n",
        "recall = recall_score(labels_test, pred_labels_test, pos_label='positive')\n",
        "f1 = f1_score(labels_test, pred_labels_test, pos_label='positive')\n",
        "\n",
        "print('Accuracy:', accuracy)\n",
        "print('Precision:', precision)\n",
        "print('Recall:', recall)\n",
        "print('F1 Score:', f1)"
      ],
      "metadata": {
        "colab": {
          "base_uri": "https://localhost:8080/"
        },
        "id": "yTjLL34ReljG",
        "outputId": "97af96d6-6560-461a-c30e-0d264fd7f22b"
      },
      "execution_count": 6,
      "outputs": [
        {
          "output_type": "stream",
          "name": "stdout",
          "text": [
            "Accuracy: 0.8\n",
            "Precision: 0.8\n",
            "Recall: 1.0\n",
            "F1 Score: 0.888888888888889\n"
          ]
        }
      ]
    },
    {
      "cell_type": "code",
      "source": [
        "import matplotlib.pyplot as plt\n",
        "import seaborn as sns\n",
        "from sklearn.metrics import confusion_matrix\n",
        "\n",
        "# Train-test split\n",
        "X_train, X_test, y_train, y_test = train_test_split(X, labels, test_size=0.2, random_state=42)\n",
        "\n",
        "# Train the classifier\n",
        "clf = MultinomialNB()\n",
        "clf.fit(X_train, y_train)\n",
        "\n",
        "# Evaluate the classifier on the test set\n",
        "y_pred = clf.predict(X_test)\n",
        "accuracy = accuracy_score(y_test, y_pred)\n",
        "precision = precision_score(y_test, y_pred, pos_label='positive')\n",
        "recall = recall_score(y_test, y_pred, pos_label='positive')\n",
        "f1 = f1_score(y_test, y_pred, pos_label='positive')\n",
        "print(f\"Accuracy: {accuracy:.4f}, Precision: {precision:.4f}, Recall: {recall:.4f}, F1 Score: {f1:.4f}\")\n",
        "\n",
        "# Plot the confusion matrix\n",
        "cm = confusion_matrix(y_test, y_pred, labels=['positive', 'negative'])\n",
        "sns.heatmap(cm, annot=True, fmt='d', cmap='Blues', xticklabels=['Positive', 'Negative'], yticklabels=['Positive', 'Negative'])\n",
        "plt.xlabel('Predicted')\n",
        "plt.ylabel('Actual')\n",
        "plt.title('Confusion Matrix')\n",
        "plt.show()"
      ],
      "metadata": {
        "colab": {
          "base_uri": "https://localhost:8080/",
          "height": 490
        },
        "id": "yjJK_U0Hfi7C",
        "outputId": "039114f1-448d-476a-ea36-59b8448a480e"
      },
      "execution_count": 7,
      "outputs": [
        {
          "output_type": "stream",
          "name": "stdout",
          "text": [
            "Accuracy: 0.6000, Precision: 1.0000, Recall: 0.5000, F1 Score: 0.6667\n"
          ]
        },
        {
          "output_type": "display_data",
          "data": {
            "text/plain": [
              "<Figure size 640x480 with 2 Axes>"
            ],
            "image/png": "[encoded data removed]"
          },
          "metadata": {}
        }
      ]
    },
    {
      "cell_type": "code",
      "source": [
        "# import requests\n",
        "# from bs4 import BeautifulSoup\n",
        "\n",
        "# import pandas as pd\n",
        "\n",
        "# # Define the URL of the page you want to scrape\n",
        "# url = 'https://www.imdb.com/title/tt0068646/reviews?ref_=tt_urv'\n",
        "\n",
        "# # Send a request to the URL and get the HTML content of the page\n",
        "# response = requests.get(url)\n",
        "# html_content = response.content\n",
        "\n",
        "# # Parse the HTML content using BeautifulSoup\n",
        "# soup = BeautifulSoup(html_content, 'html.parser')\n",
        "\n",
        "# # Find the reviews section of the page using its class name\n",
        "# reviews = soup.find_all('div', {'class': 'lister-item-content'})\n",
        "\n",
        "# # Create a labeled dataset\n",
        "# corpus = []\n",
        "# labels = []\n",
        "# for review in reviews:\n",
        "#     review_text_elem = review.find('div', {'class': 'text'})\n",
        "#     rating_elem = review.find('span', {'class': 'rating-other-user-rating'})\n",
        "    \n",
        "#     # Check if the elements are None before accessing their attributes\n",
        "#     review_text = review_text_elem.text.strip() if review_text_elem is not None else ''\n",
        "#     rating = rating_elem.find('span').text.strip() if rating_elem is not None else ''\n",
        "    \n",
        "#     if rating != '':\n",
        "#         if int(rating) >= 7:\n",
        "#             labels.append('positive')\n",
        "#         else:\n",
        "#             labels.append('negative')\n",
        "#         corpus.append(review_text)\n",
        "\n",
        "# # Preprocess the text data using CountVectorizer\n",
        "# vectorizer = CountVectorizer(stop_words='english')\n",
        "# X = vectorizer.fit_transform(corpus)\n",
        "\n",
        "# # Train a Naive Bayes classifier\n",
        "# clf = MultinomialNB()\n",
        "# clf.fit(X, labels)\n",
        "\n",
        "# # Predict the labels for the reviews\n",
        "# pred_labels = clf.predict(X)\n",
        "\n",
        "# # Combine the reviews and their predicted labels into a DataFrame\n",
        "# reviews_df = pd.DataFrame({'Review': corpus, 'Label': pred_labels})\n",
        "\n",
        "# # Save the DataFrame to a CSV file\n",
        "# reviews_df.to_csv('reviews.csv', index=False)\n"
      ],
      "metadata": {
        "id": "ed9QIOQ4bTLP"
      },
      "execution_count": 6,
      "outputs": []
    },
    {
      "cell_type": "code",
      "source": [],
      "metadata": {
        "id": "Mys-bduxfZEw"
      },
      "execution_count": null,
      "outputs": []
    }
  ]
}