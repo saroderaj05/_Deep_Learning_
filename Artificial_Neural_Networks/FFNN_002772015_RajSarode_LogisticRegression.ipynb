{
  "nbformat": 4,
  "nbformat_minor": 0,
  "metadata": {
    "colab": {
      "provenance": []
    },
    "kernelspec": {
      "name": "python3",
      "display_name": "Python 3"
    },
    "language_info": {
      "name": "python"
    }
  },
  "cells": [
    {
      "cell_type": "markdown",
      "source": [
        "**Implement a simple feed-forward neural network model for the loan dataset and then evaluate the performance on a 80/20 split. Exclude irrelevant columns and perform one-hot encoding and normalization of each column, if needed.**"
      ],
      "metadata": {
        "id": "214yRA5VXMZa"
      }
    },
    {
      "cell_type": "code",
      "execution_count": 1,
      "metadata": {
        "id": "kVN1Ft3x3GER"
      },
      "outputs": [],
      "source": [
        "import pandas as pd\n",
        "import numpy as np\n",
        "import tensorflow as tf\n",
        "from sklearn.neural_network import MLPClassifier"
      ]
    },
    {
      "cell_type": "code",
      "source": [
        "loan_data=pd.read_excel('loan.xlsx')"
      ],
      "metadata": {
        "id": "BWLaQfEbGrvf"
      },
      "execution_count": 2,
      "outputs": []
    },
    {
      "cell_type": "code",
      "source": [
        "print(loan_data.shape)\n",
        "loan_data"
      ],
      "metadata": {
        "colab": {
          "base_uri": "https://localhost:8080/",
          "height": 506
        },
        "id": "TGtQpZngGxFn",
        "outputId": "7271a8f5-f593-455c-94fb-39121f8c8977"
      },
      "execution_count": 3,
      "outputs": [
        {
          "output_type": "stream",
          "name": "stdout",
          "text": [
            "(429, 14)\n"
          ]
        },
        {
          "output_type": "execute_result",
          "data": {
            "text/plain": [
              "    Sex        Age  Time_at_address Res_status  Telephone Occupation  \\\n",
              "0     M  50.750000            0.585      owner      given  unemploye   \n",
              "1     M  19.670000           10.000       rent  not_given   labourer   \n",
              "2     F  52.830002           15.000      owner      given  creative_   \n",
              "3     M  22.670000            2.540       rent  not_given  creative_   \n",
              "4     M  29.250000           13.000      owner      given     driver   \n",
              "..   ..        ...              ...        ...        ...        ...   \n",
              "424   M  34.169998            2.750      owner      given  guard_etc   \n",
              "425   F  22.250000            1.250       rent  not_given  unemploye   \n",
              "426   M  23.330000            1.500      owner      given  creative_   \n",
              "427   M  21.000000            4.790       rent  not_given  productio   \n",
              "428   M  27.750000            1.290      owner      given   labourer   \n",
              "\n",
              "    Job_status  Time_employed  Time_bank Liab_ref    Acc_ref  Home_Expn  \\\n",
              "0    unemploye              0          0        f      given        145   \n",
              "1    governmen              0          0        t      given        140   \n",
              "2    private_s              5         14        f      given          0   \n",
              "3    governmen              2          0        f      given          0   \n",
              "4    governmen              0          0        f      given        228   \n",
              "..         ...            ...        ...      ...        ...        ...   \n",
              "424  self_empl              2          0        t      given        232   \n",
              "425  unemploye              3          0        f      given        280   \n",
              "426  governmen              1          0        f      given        422   \n",
              "427  private_s              2          1        t      given         80   \n",
              "428  governmen              0          0        t  oth_inst_        140   \n",
              "\n",
              "     Balance Decision  \n",
              "0          0   reject  \n",
              "1          0   reject  \n",
              "2       2200   accept  \n",
              "3          0   accept  \n",
              "4          0   reject  \n",
              "..       ...      ...  \n",
              "424      200   reject  \n",
              "425        0   reject  \n",
              "426      200   accept  \n",
              "427      300   accept  \n",
              "428        0   reject  \n",
              "\n",
              "[429 rows x 14 columns]"
            ],
            "text/html": [
              "\n",
              "  <div id=\"df-25052b1e-c150-4b74-a78b-ffc923594c52\">\n",
              "    <div class=\"colab-df-container\">\n",
              "      <div>\n",
              "<style scoped>\n",
              "    .dataframe tbody tr th:only-of-type {\n",
              "        vertical-align: middle;\n",
              "    }\n",
              "\n",
              "    .dataframe tbody tr th {\n",
              "        vertical-align: top;\n",
              "    }\n",
              "\n",
              "    .dataframe thead th {\n",
              "        text-align: right;\n",
              "    }\n",
              "</style>\n",
              "<table border=\"1\" class=\"dataframe\">\n",
              "  <thead>\n",
              "    <tr style=\"text-align: right;\">\n",
              "      <th></th>\n",
              "      <th>Sex</th>\n",
              "      <th>Age</th>\n",
              "      <th>Time_at_address</th>\n",
              "      <th>Res_status</th>\n",
              "      <th>Telephone</th>\n",
              "      <th>Occupation</th>\n",
              "      <th>Job_status</th>\n",
              "      <th>Time_employed</th>\n",
              "      <th>Time_bank</th>\n",
              "      <th>Liab_ref</th>\n",
              "      <th>Acc_ref</th>\n",
              "      <th>Home_Expn</th>\n",
              "      <th>Balance</th>\n",
              "      <th>Decision</th>\n",
              "    </tr>\n",
              "  </thead>\n",
              "  <tbody>\n",
              "    <tr>\n",
              "      <th>0</th>\n",
              "      <td>M</td>\n",
              "      <td>50.750000</td>\n",
              "      <td>0.585</td>\n",
              "      <td>owner</td>\n",
              "      <td>given</td>\n",
              "      <td>unemploye</td>\n",
              "      <td>unemploye</td>\n",
              "      <td>0</td>\n",
              "      <td>0</td>\n",
              "      <td>f</td>\n",
              "      <td>given</td>\n",
              "      <td>145</td>\n",
              "      <td>0</td>\n",
              "      <td>reject</td>\n",
              "    </tr>\n",
              "    <tr>\n",
              "      <th>1</th>\n",
              "      <td>M</td>\n",
              "      <td>19.670000</td>\n",
              "      <td>10.000</td>\n",
              "      <td>rent</td>\n",
              "      <td>not_given</td>\n",
              "      <td>labourer</td>\n",
              "      <td>governmen</td>\n",
              "      <td>0</td>\n",
              "      <td>0</td>\n",
              "      <td>t</td>\n",
              "      <td>given</td>\n",
              "      <td>140</td>\n",
              "      <td>0</td>\n",
              "      <td>reject</td>\n",
              "    </tr>\n",
              "    <tr>\n",
              "      <th>2</th>\n",
              "      <td>F</td>\n",
              "      <td>52.830002</td>\n",
              "      <td>15.000</td>\n",
              "      <td>owner</td>\n",
              "      <td>given</td>\n",
              "      <td>creative_</td>\n",
              "      <td>private_s</td>\n",
              "      <td>5</td>\n",
              "      <td>14</td>\n",
              "      <td>f</td>\n",
              "      <td>given</td>\n",
              "      <td>0</td>\n",
              "      <td>2200</td>\n",
              "      <td>accept</td>\n",
              "    </tr>\n",
              "    <tr>\n",
              "      <th>3</th>\n",
              "      <td>M</td>\n",
              "      <td>22.670000</td>\n",
              "      <td>2.540</td>\n",
              "      <td>rent</td>\n",
              "      <td>not_given</td>\n",
              "      <td>creative_</td>\n",
              "      <td>governmen</td>\n",
              "      <td>2</td>\n",
              "      <td>0</td>\n",
              "      <td>f</td>\n",
              "      <td>given</td>\n",
              "      <td>0</td>\n",
              "      <td>0</td>\n",
              "      <td>accept</td>\n",
              "    </tr>\n",
              "    <tr>\n",
              "      <th>4</th>\n",
              "      <td>M</td>\n",
              "      <td>29.250000</td>\n",
              "      <td>13.000</td>\n",
              "      <td>owner</td>\n",
              "      <td>given</td>\n",
              "      <td>driver</td>\n",
              "      <td>governmen</td>\n",
              "      <td>0</td>\n",
              "      <td>0</td>\n",
              "      <td>f</td>\n",
              "      <td>given</td>\n",
              "      <td>228</td>\n",
              "      <td>0</td>\n",
              "      <td>reject</td>\n",
              "    </tr>\n",
              "    <tr>\n",
              "      <th>...</th>\n",
              "      <td>...</td>\n",
              "      <td>...</td>\n",
              "      <td>...</td>\n",
              "      <td>...</td>\n",
              "      <td>...</td>\n",
              "      <td>...</td>\n",
              "      <td>...</td>\n",
              "      <td>...</td>\n",
              "      <td>...</td>\n",
              "      <td>...</td>\n",
              "      <td>...</td>\n",
              "      <td>...</td>\n",
              "      <td>...</td>\n",
              "      <td>...</td>\n",
              "    </tr>\n",
              "    <tr>\n",
              "      <th>424</th>\n",
              "      <td>M</td>\n",
              "      <td>34.169998</td>\n",
              "      <td>2.750</td>\n",
              "      <td>owner</td>\n",
              "      <td>given</td>\n",
              "      <td>guard_etc</td>\n",
              "      <td>self_empl</td>\n",
              "      <td>2</td>\n",
              "      <td>0</td>\n",
              "      <td>t</td>\n",
              "      <td>given</td>\n",
              "      <td>232</td>\n",
              "      <td>200</td>\n",
              "      <td>reject</td>\n",
              "    </tr>\n",
              "    <tr>\n",
              "      <th>425</th>\n",
              "      <td>F</td>\n",
              "      <td>22.250000</td>\n",
              "      <td>1.250</td>\n",
              "      <td>rent</td>\n",
              "      <td>not_given</td>\n",
              "      <td>unemploye</td>\n",
              "      <td>unemploye</td>\n",
              "      <td>3</td>\n",
              "      <td>0</td>\n",
              "      <td>f</td>\n",
              "      <td>given</td>\n",
              "      <td>280</td>\n",
              "      <td>0</td>\n",
              "      <td>reject</td>\n",
              "    </tr>\n",
              "    <tr>\n",
              "      <th>426</th>\n",
              "      <td>M</td>\n",
              "      <td>23.330000</td>\n",
              "      <td>1.500</td>\n",
              "      <td>owner</td>\n",
              "      <td>given</td>\n",
              "      <td>creative_</td>\n",
              "      <td>governmen</td>\n",
              "      <td>1</td>\n",
              "      <td>0</td>\n",
              "      <td>f</td>\n",
              "      <td>given</td>\n",
              "      <td>422</td>\n",
              "      <td>200</td>\n",
              "      <td>accept</td>\n",
              "    </tr>\n",
              "    <tr>\n",
              "      <th>427</th>\n",
              "      <td>M</td>\n",
              "      <td>21.000000</td>\n",
              "      <td>4.790</td>\n",
              "      <td>rent</td>\n",
              "      <td>not_given</td>\n",
              "      <td>productio</td>\n",
              "      <td>private_s</td>\n",
              "      <td>2</td>\n",
              "      <td>1</td>\n",
              "      <td>t</td>\n",
              "      <td>given</td>\n",
              "      <td>80</td>\n",
              "      <td>300</td>\n",
              "      <td>accept</td>\n",
              "    </tr>\n",
              "    <tr>\n",
              "      <th>428</th>\n",
              "      <td>M</td>\n",
              "      <td>27.750000</td>\n",
              "      <td>1.290</td>\n",
              "      <td>owner</td>\n",
              "      <td>given</td>\n",
              "      <td>labourer</td>\n",
              "      <td>governmen</td>\n",
              "      <td>0</td>\n",
              "      <td>0</td>\n",
              "      <td>t</td>\n",
              "      <td>oth_inst_</td>\n",
              "      <td>140</td>\n",
              "      <td>0</td>\n",
              "      <td>reject</td>\n",
              "    </tr>\n",
              "  </tbody>\n",
              "</table>\n",
              "<p>429 rows × 14 columns</p>\n",
              "</div>\n",
              "      <button class=\"colab-df-convert\" onclick=\"convertToInteractive('df-25052b1e-c150-4b74-a78b-ffc923594c52')\"\n",
              "              title=\"Convert this dataframe to an interactive table.\"\n",
              "              style=\"display:none;\">\n",
              "        \n",
              "  <svg xmlns=\"http://www.w3.org/2000/svg\" height=\"24px\"viewBox=\"0 0 24 24\"\n",
              "       width=\"24px\">\n",
              "    <path d=\"M0 0h24v24H0V0z\" fill=\"none\"/>\n",
              "    <path d=\"M18.56 5.44l.94 2.06.94-2.06 2.06-.94-2.06-.94-.94-2.06-.94 2.06-2.06.94zm-11 1L8.5 8.5l.94-2.06 2.06-.94-2.06-.94L8.5 2.5l-.94 2.06-2.06.94zm10 10l.94 2.06.94-2.06 2.06-.94-2.06-.94-.94-2.06-.94 2.06-2.06.94z\"/><path d=\"M17.41 7.96l-1.37-1.37c-.4-.4-.92-.59-1.43-.59-.52 0-1.04.2-1.43.59L10.3 9.45l-7.72 7.72c-.78.78-.78 2.05 0 2.83L4 21.41c.39.39.9.59 1.41.59.51 0 1.02-.2 1.41-.59l7.78-7.78 2.81-2.81c.8-.78.8-2.07 0-2.86zM5.41 20L4 18.59l7.72-7.72 1.47 1.35L5.41 20z\"/>\n",
              "  </svg>\n",
              "      </button>\n",
              "      \n",
              "  <style>\n",
              "    .colab-df-container {\n",
              "      display:flex;\n",
              "      flex-wrap:wrap;\n",
              "      gap: 12px;\n",
              "    }\n",
              "\n",
              "    .colab-df-convert {\n",
              "      background-color: #E8F0FE;\n",
              "      border: none;\n",
              "      border-radius: 50%;\n",
              "      cursor: pointer;\n",
              "      display: none;\n",
              "      fill: #1967D2;\n",
              "      height: 32px;\n",
              "      padding: 0 0 0 0;\n",
              "      width: 32px;\n",
              "    }\n",
              "\n",
              "    .colab-df-convert:hover {\n",
              "      background-color: #E2EBFA;\n",
              "      box-shadow: 0px 1px 2px rgba(60, 64, 67, 0.3), 0px 1px 3px 1px rgba(60, 64, 67, 0.15);\n",
              "      fill: #174EA6;\n",
              "    }\n",
              "\n",
              "    [theme=dark] .colab-df-convert {\n",
              "      background-color: #3B4455;\n",
              "      fill: #D2E3FC;\n",
              "    }\n",
              "\n",
              "    [theme=dark] .colab-df-convert:hover {\n",
              "      background-color: #434B5C;\n",
              "      box-shadow: 0px 1px 3px 1px rgba(0, 0, 0, 0.15);\n",
              "      filter: drop-shadow(0px 1px 2px rgba(0, 0, 0, 0.3));\n",
              "      fill: #FFFFFF;\n",
              "    }\n",
              "  </style>\n",
              "\n",
              "      <script>\n",
              "        const buttonEl =\n",
              "          document.querySelector('#df-25052b1e-c150-4b74-a78b-ffc923594c52 button.colab-df-convert');\n",
              "        buttonEl.style.display =\n",
              "          google.colab.kernel.accessAllowed ? 'block' : 'none';\n",
              "\n",
              "        async function convertToInteractive(key) {\n",
              "          const element = document.querySelector('#df-25052b1e-c150-4b74-a78b-ffc923594c52');\n",
              "          const dataTable =\n",
              "            await google.colab.kernel.invokeFunction('convertToInteractive',\n",
              "                                                     [key], {});\n",
              "          if (!dataTable) return;\n",
              "\n",
              "          const docLinkHtml = 'Like what you see? Visit the ' +\n",
              "            '<a target=\"_blank\" href=https://colab.research.google.com/notebooks/data_table.ipynb>data table notebook</a>'\n",
              "            + ' to learn more about interactive tables.';\n",
              "          element.innerHTML = '';\n",
              "          dataTable['output_type'] = 'display_data';\n",
              "          await google.colab.output.renderOutput(dataTable, element);\n",
              "          const docLink = document.createElement('div');\n",
              "          docLink.innerHTML = docLinkHtml;\n",
              "          element.appendChild(docLink);\n",
              "        }\n",
              "      </script>\n",
              "    </div>\n",
              "  </div>\n",
              "  "
            ]
          },
          "metadata": {},
          "execution_count": 3
        }
      ]
    },
    {
      "cell_type": "code",
      "source": [
        "loan_data.isnull().sum()"
      ],
      "metadata": {
        "colab": {
          "base_uri": "https://localhost:8080/"
        },
        "id": "-F6qcxonHOav",
        "outputId": "ccf51467-01bd-447c-c567-edba3a4ea052"
      },
      "execution_count": 4,
      "outputs": [
        {
          "output_type": "execute_result",
          "data": {
            "text/plain": [
              "Sex                0\n",
              "Age                0\n",
              "Time_at_address    0\n",
              "Res_status         0\n",
              "Telephone          0\n",
              "Occupation         0\n",
              "Job_status         0\n",
              "Time_employed      0\n",
              "Time_bank          0\n",
              "Liab_ref           0\n",
              "Acc_ref            0\n",
              "Home_Expn          0\n",
              "Balance            0\n",
              "Decision           0\n",
              "dtype: int64"
            ]
          },
          "metadata": {},
          "execution_count": 4
        }
      ]
    },
    {
      "cell_type": "code",
      "source": [
        "loan_data.head()\n",
        "loan_data.shape"
      ],
      "metadata": {
        "colab": {
          "base_uri": "https://localhost:8080/"
        },
        "id": "RK_a6PD3IDh3",
        "outputId": "147e1f83-82b3-4f35-8ae1-032f35c0f1c6"
      },
      "execution_count": 5,
      "outputs": [
        {
          "output_type": "execute_result",
          "data": {
            "text/plain": [
              "(429, 14)"
            ]
          },
          "metadata": {},
          "execution_count": 5
        }
      ]
    },
    {
      "cell_type": "code",
      "source": [
        "#Using the iloc attribute to slect all rows and all columns except he last column\n",
        "X=loan_data.iloc[:,:-1].values\n",
        "X"
      ],
      "metadata": {
        "colab": {
          "base_uri": "https://localhost:8080/"
        },
        "id": "F_M1FRVpIxqQ",
        "outputId": "870f281f-3d63-487f-8a73-1868f7cb3c17"
      },
      "execution_count": 6,
      "outputs": [
        {
          "output_type": "execute_result",
          "data": {
            "text/plain": [
              "array([['M', 50.75, 0.584999978542328, ..., 'given', 145, 0],\n",
              "       ['M', 19.6700000762939, 10.0, ..., 'given', 140, 0],\n",
              "       ['F', 52.8300018310547, 15.0, ..., 'given', 0, 2200],\n",
              "       ...,\n",
              "       ['M', 23.3299999237061, 1.5, ..., 'given', 422, 200],\n",
              "       ['M', 21.0, 4.78999996185303, ..., 'given', 80, 300],\n",
              "       ['M', 27.75, 1.28999996185303, ..., 'oth_inst_', 140, 0]],\n",
              "      dtype=object)"
            ]
          },
          "metadata": {},
          "execution_count": 6
        }
      ]
    },
    {
      "cell_type": "code",
      "source": [
        "y=loan_data.iloc[:,-1].values"
      ],
      "metadata": {
        "id": "3t7-mUYLI28a"
      },
      "execution_count": 7,
      "outputs": []
    },
    {
      "cell_type": "code",
      "source": [
        "loan_data.dtypes"
      ],
      "metadata": {
        "colab": {
          "base_uri": "https://localhost:8080/"
        },
        "id": "Xy2usprpzjEu",
        "outputId": "c5852e04-9469-4ece-b77d-df76adc84148"
      },
      "execution_count": 8,
      "outputs": [
        {
          "output_type": "execute_result",
          "data": {
            "text/plain": [
              "Sex                 object\n",
              "Age                float64\n",
              "Time_at_address    float64\n",
              "Res_status          object\n",
              "Telephone           object\n",
              "Occupation          object\n",
              "Job_status          object\n",
              "Time_employed        int64\n",
              "Time_bank            int64\n",
              "Liab_ref            object\n",
              "Acc_ref             object\n",
              "Home_Expn            int64\n",
              "Balance              int64\n",
              "Decision            object\n",
              "dtype: object"
            ]
          },
          "metadata": {},
          "execution_count": 8
        }
      ]
    },
    {
      "cell_type": "code",
      "source": [
        "#Performing one-hot encoding on categorical features in X variable\n",
        "from sklearn.compose import ColumnTransformer\n",
        "from sklearn.preprocessing import OneHotEncoder\n",
        "ct=ColumnTransformer(transformers=[('encoder',OneHotEncoder(),[0,3,4,5,6,9,10])],remainder='passthrough')\n",
        "x=np.array(ct.fit_transform(X))"
      ],
      "metadata": {
        "id": "Mi-DRa0EJoxs"
      },
      "execution_count": 9,
      "outputs": []
    },
    {
      "cell_type": "code",
      "source": [
        "#Performing label encoding on target variable 'y'. Using fiy_transform method to fit the labelencoder to target variable and transform he categorical values into numerical\n",
        "from sklearn.preprocessing import LabelEncoder\n",
        "le=LabelEncoder()\n",
        "y=le.fit_transform(y)"
      ],
      "metadata": {
        "id": "8kDlYt_PK5WB"
      },
      "execution_count": 10,
      "outputs": []
    },
    {
      "cell_type": "code",
      "source": [
        "print(x)\n",
        "print(x.shape)"
      ],
      "metadata": {
        "id": "msNz9QHTK7J8",
        "colab": {
          "base_uri": "https://localhost:8080/"
        },
        "outputId": "d6da9e19-c12a-405c-b174-bf74d626b6b5"
      },
      "execution_count": 11,
      "outputs": [
        {
          "output_type": "stream",
          "name": "stdout",
          "text": [
            "[[0.0 1.0 1.0 ... 0 145 0]\n",
            " [0.0 1.0 0.0 ... 0 140 0]\n",
            " [1.0 0.0 1.0 ... 14 0 2200]\n",
            " ...\n",
            " [0.0 1.0 1.0 ... 0 422 200]\n",
            " [0.0 1.0 0.0 ... 1 80 300]\n",
            " [0.0 1.0 1.0 ... 0 140 0]]\n",
            "(429, 35)\n"
          ]
        }
      ]
    },
    {
      "cell_type": "code",
      "source": [
        "print(y.shape)"
      ],
      "metadata": {
        "id": "8lP6KDhSK96Z",
        "colab": {
          "base_uri": "https://localhost:8080/"
        },
        "outputId": "32c7aaf0-d674-417e-af89-295b79b12a01"
      },
      "execution_count": 12,
      "outputs": [
        {
          "output_type": "stream",
          "name": "stdout",
          "text": [
            "(429,)\n"
          ]
        }
      ]
    },
    {
      "cell_type": "code",
      "source": [
        "#Splitting the encoded encoded feature variables 'x' & the target variables 'y' into training and testing sets\n",
        "from sklearn.model_selection import train_test_split\n",
        "X_train, X_test, y_train, y_test = train_test_split(x, y, test_size = 0.25, random_state = 2)"
      ],
      "metadata": {
        "id": "pjWl5jeLLCPB"
      },
      "execution_count": 13,
      "outputs": []
    },
    {
      "cell_type": "code",
      "source": [
        "print(X_train)\n",
        "print(y_train.shape)\n",
        "print(X_test)\n",
        "print(y_test.shape)"
      ],
      "metadata": {
        "id": "kFtiRpV8LMs8",
        "colab": {
          "base_uri": "https://localhost:8080/"
        },
        "outputId": "83216fb8-eb8b-40ad-b861-0bc8a6906c22"
      },
      "execution_count": 14,
      "outputs": [
        {
          "output_type": "stream",
          "name": "stdout",
          "text": [
            "[[1.0 0.0 1.0 ... 6 0 1260]\n",
            " [0.0 1.0 1.0 ... 0 60 100]\n",
            " [0.0 1.0 1.0 ... 0 80 350]\n",
            " ...\n",
            " [0.0 1.0 0.0 ... 0 120 375]\n",
            " [1.0 0.0 1.0 ... 0 0 0]\n",
            " [1.0 0.0 1.0 ... 3 212 0]]\n",
            "(321,)\n",
            "[[0.0 1.0 1.0 ... 3 0 582]\n",
            " [1.0 0.0 1.0 ... 1 120 1]\n",
            " [0.0 1.0 1.0 ... 0 132 0]\n",
            " ...\n",
            " [0.0 1.0 1.0 ... 0 140 0]\n",
            " [0.0 1.0 1.0 ... 2 160 587]\n",
            " [0.0 1.0 1.0 ... 3 180 0]]\n",
            "(108,)\n"
          ]
        }
      ]
    },
    {
      "cell_type": "code",
      "source": [
        "model = tf.keras.Sequential()\n",
        "model.add(tf.keras.layers.Dense(128, activation=tf.nn.relu))\n",
        "model.add(tf.keras.layers.Dense(10, activation=tf.nn.sigmoid))"
      ],
      "metadata": {
        "id": "pKIPOL1_IHHL"
      },
      "execution_count": 15,
      "outputs": []
    },
    {
      "cell_type": "code",
      "source": [
        "model.compile(optimizer = 'adam', loss = tf.keras.losses.MeanSquaredError(), metrics=['accuracy'])"
      ],
      "metadata": {
        "id": "rgOpgxtQIspC"
      },
      "execution_count": 16,
      "outputs": []
    },
    {
      "cell_type": "code",
      "source": [
        "model = MLPClassifier()\n",
        "model.fit(X_train, y_train)\n",
        "\n",
        "accuracy = model.score(X_test, y_test)\n",
        "\n",
        "print(accuracy)"
      ],
      "metadata": {
        "colab": {
          "base_uri": "https://localhost:8080/"
        },
        "id": "-2UGeV-YJCeM",
        "outputId": "403cefd7-fe18-424e-8bf2-be5e046a2372"
      },
      "execution_count": 17,
      "outputs": [
        {
          "output_type": "stream",
          "name": "stdout",
          "text": [
            "0.7037037037037037\n"
          ]
        }
      ]
    }
  ]
}